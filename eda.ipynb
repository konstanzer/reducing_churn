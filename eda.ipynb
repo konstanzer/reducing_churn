{
 "cells": [
  {
   "cell_type": "code",
   "execution_count": 29,
   "metadata": {
    "id": "xk4onAT-ncLb"
   },
   "outputs": [],
   "source": [
    "import warnings\n",
    "warnings.filterwarnings('ignore')\n",
    "\n",
    "from src.prepare import telco_eda_prep\n",
    "from src.helper_functions import plot_corr\n",
    "\n",
    "from scipy.stats import chi2_contingency\n",
    "\n",
    "import pandas as pd\n",
    "import numpy as np\n",
    "import matplotlib.pyplot as plt\n",
    "import seaborn as sns\n",
    "\n",
    "charizard = ['#FCC499', '#F2684A', '#FAAA6D', '#419EAE', '#FFEEB0']\n",
    "sns.set_palette(sns.color_palette(charizard))"
   ]
  },
  {
   "cell_type": "code",
   "execution_count": 17,
   "metadata": {
    "id": "K9-9Sfovno_b"
   },
   "outputs": [
    {
     "name": "stdout",
     "output_type": "stream",
     "text": [
      "<class 'pandas.core.frame.DataFrame'>\n",
      "RangeIndex: 7043 entries, 0 to 7042\n",
      "Data columns (total 21 columns):\n",
      " #   Column                Non-Null Count  Dtype   \n",
      "---  ------                --------------  -----   \n",
      " 0   gender                7043 non-null   object  \n",
      " 1   senior_citizen        7043 non-null   int64   \n",
      " 2   partner               7043 non-null   object  \n",
      " 3   dependents            7043 non-null   object  \n",
      " 4   tenure                7043 non-null   int64   \n",
      " 5   phone_service         7043 non-null   object  \n",
      " 6   multiple_lines        7043 non-null   object  \n",
      " 7   internet_service      7043 non-null   object  \n",
      " 8   online_security       7043 non-null   object  \n",
      " 9   online_backup         7043 non-null   object  \n",
      " 10  device_protection     7043 non-null   object  \n",
      " 11  tech_support          7043 non-null   object  \n",
      " 12  streaming_tv          7043 non-null   object  \n",
      " 13  streaming_movies      7043 non-null   object  \n",
      " 14  contract              7043 non-null   object  \n",
      " 15  paperless_billing     7043 non-null   object  \n",
      " 16  payment_method        7043 non-null   object  \n",
      " 17  monthly_charges       7043 non-null   float64 \n",
      " 18  total_charges         7043 non-null   float64 \n",
      " 19  churn                 7043 non-null   object  \n",
      " 20  monthly_charges_bins  7043 non-null   category\n",
      "dtypes: category(1), float64(2), int64(2), object(16)\n",
      "memory usage: 1.1+ MB\n"
     ]
    }
   ],
   "source": [
    "df = telco_eda_prep()\n",
    "df.info()"
   ]
  },
  {
   "cell_type": "code",
   "execution_count": 31,
   "metadata": {
    "colab": {
     "base_uri": "https://localhost:8080/"
    },
    "id": "UUyEAEL50vOu",
    "outputId": "89f1866c-2c06-4a12-d22d-f2d284e552ad"
   },
   "outputs": [
    {
     "data": {
      "text/html": [
       "<div>\n",
       "<style scoped>\n",
       "    .dataframe tbody tr th:only-of-type {\n",
       "        vertical-align: middle;\n",
       "    }\n",
       "\n",
       "    .dataframe tbody tr th {\n",
       "        vertical-align: top;\n",
       "    }\n",
       "\n",
       "    .dataframe thead th {\n",
       "        text-align: right;\n",
       "    }\n",
       "</style>\n",
       "<table border=\"1\" class=\"dataframe\">\n",
       "  <thead>\n",
       "    <tr style=\"text-align: right;\">\n",
       "      <th></th>\n",
       "      <th>gender</th>\n",
       "      <th>senior_citizen</th>\n",
       "      <th>partner</th>\n",
       "      <th>dependents</th>\n",
       "      <th>tenure</th>\n",
       "      <th>phone_service</th>\n",
       "      <th>multiple_lines</th>\n",
       "      <th>internet_service</th>\n",
       "      <th>online_security</th>\n",
       "      <th>online_backup</th>\n",
       "      <th>...</th>\n",
       "      <th>tech_support</th>\n",
       "      <th>streaming_tv</th>\n",
       "      <th>streaming_movies</th>\n",
       "      <th>contract</th>\n",
       "      <th>paperless_billing</th>\n",
       "      <th>payment_method</th>\n",
       "      <th>monthly_charges</th>\n",
       "      <th>total_charges</th>\n",
       "      <th>churn</th>\n",
       "      <th>monthly_charges_bins</th>\n",
       "    </tr>\n",
       "  </thead>\n",
       "  <tbody>\n",
       "    <tr>\n",
       "      <th>0</th>\n",
       "      <td>Female</td>\n",
       "      <td>0</td>\n",
       "      <td>Yes</td>\n",
       "      <td>Yes</td>\n",
       "      <td>9</td>\n",
       "      <td>Yes</td>\n",
       "      <td>No</td>\n",
       "      <td>DSL</td>\n",
       "      <td>No</td>\n",
       "      <td>Yes</td>\n",
       "      <td>...</td>\n",
       "      <td>Yes</td>\n",
       "      <td>Yes</td>\n",
       "      <td>No</td>\n",
       "      <td>1-year</td>\n",
       "      <td>Yes</td>\n",
       "      <td>check</td>\n",
       "      <td>65.6</td>\n",
       "      <td>593.30</td>\n",
       "      <td>No</td>\n",
       "      <td>(58.83, 70.35]</td>\n",
       "    </tr>\n",
       "    <tr>\n",
       "      <th>1</th>\n",
       "      <td>Male</td>\n",
       "      <td>0</td>\n",
       "      <td>No</td>\n",
       "      <td>No</td>\n",
       "      <td>9</td>\n",
       "      <td>Yes</td>\n",
       "      <td>Yes</td>\n",
       "      <td>DSL</td>\n",
       "      <td>No</td>\n",
       "      <td>No</td>\n",
       "      <td>...</td>\n",
       "      <td>No</td>\n",
       "      <td>No</td>\n",
       "      <td>Yes</td>\n",
       "      <td>month-to-month</td>\n",
       "      <td>No</td>\n",
       "      <td>check</td>\n",
       "      <td>59.9</td>\n",
       "      <td>542.40</td>\n",
       "      <td>No</td>\n",
       "      <td>(58.83, 70.35]</td>\n",
       "    </tr>\n",
       "    <tr>\n",
       "      <th>2</th>\n",
       "      <td>Male</td>\n",
       "      <td>0</td>\n",
       "      <td>No</td>\n",
       "      <td>No</td>\n",
       "      <td>4</td>\n",
       "      <td>Yes</td>\n",
       "      <td>No</td>\n",
       "      <td>fiber optic</td>\n",
       "      <td>No</td>\n",
       "      <td>No</td>\n",
       "      <td>...</td>\n",
       "      <td>No</td>\n",
       "      <td>No</td>\n",
       "      <td>No</td>\n",
       "      <td>month-to-month</td>\n",
       "      <td>Yes</td>\n",
       "      <td>e-check</td>\n",
       "      <td>73.9</td>\n",
       "      <td>280.85</td>\n",
       "      <td>Yes</td>\n",
       "      <td>(70.35, 79.1]</td>\n",
       "    </tr>\n",
       "    <tr>\n",
       "      <th>3</th>\n",
       "      <td>Male</td>\n",
       "      <td>1</td>\n",
       "      <td>Yes</td>\n",
       "      <td>No</td>\n",
       "      <td>13</td>\n",
       "      <td>Yes</td>\n",
       "      <td>No</td>\n",
       "      <td>fiber optic</td>\n",
       "      <td>No</td>\n",
       "      <td>Yes</td>\n",
       "      <td>...</td>\n",
       "      <td>No</td>\n",
       "      <td>Yes</td>\n",
       "      <td>Yes</td>\n",
       "      <td>month-to-month</td>\n",
       "      <td>Yes</td>\n",
       "      <td>e-check</td>\n",
       "      <td>98.0</td>\n",
       "      <td>1237.85</td>\n",
       "      <td>Yes</td>\n",
       "      <td>(94.25, 102.6]</td>\n",
       "    </tr>\n",
       "    <tr>\n",
       "      <th>4</th>\n",
       "      <td>Female</td>\n",
       "      <td>1</td>\n",
       "      <td>Yes</td>\n",
       "      <td>No</td>\n",
       "      <td>3</td>\n",
       "      <td>Yes</td>\n",
       "      <td>No</td>\n",
       "      <td>fiber optic</td>\n",
       "      <td>No</td>\n",
       "      <td>No</td>\n",
       "      <td>...</td>\n",
       "      <td>Yes</td>\n",
       "      <td>Yes</td>\n",
       "      <td>No</td>\n",
       "      <td>month-to-month</td>\n",
       "      <td>Yes</td>\n",
       "      <td>check</td>\n",
       "      <td>83.9</td>\n",
       "      <td>267.40</td>\n",
       "      <td>Yes</td>\n",
       "      <td>(79.1, 85.5]</td>\n",
       "    </tr>\n",
       "  </tbody>\n",
       "</table>\n",
       "<p>5 rows × 21 columns</p>\n",
       "</div>"
      ],
      "text/plain": [
       "   gender  senior_citizen partner dependents  tenure phone_service  \\\n",
       "0  Female               0     Yes        Yes       9           Yes   \n",
       "1    Male               0      No         No       9           Yes   \n",
       "2    Male               0      No         No       4           Yes   \n",
       "3    Male               1     Yes         No      13           Yes   \n",
       "4  Female               1     Yes         No       3           Yes   \n",
       "\n",
       "  multiple_lines internet_service online_security online_backup  ...  \\\n",
       "0             No              DSL              No           Yes  ...   \n",
       "1            Yes              DSL              No            No  ...   \n",
       "2             No      fiber optic              No            No  ...   \n",
       "3             No      fiber optic              No           Yes  ...   \n",
       "4             No      fiber optic              No            No  ...   \n",
       "\n",
       "  tech_support streaming_tv streaming_movies        contract  \\\n",
       "0          Yes          Yes               No          1-year   \n",
       "1           No           No              Yes  month-to-month   \n",
       "2           No           No               No  month-to-month   \n",
       "3           No          Yes              Yes  month-to-month   \n",
       "4          Yes          Yes               No  month-to-month   \n",
       "\n",
       "  paperless_billing payment_method monthly_charges  total_charges  churn  \\\n",
       "0               Yes          check            65.6         593.30     No   \n",
       "1                No          check            59.9         542.40     No   \n",
       "2               Yes        e-check            73.9         280.85    Yes   \n",
       "3               Yes        e-check            98.0        1237.85    Yes   \n",
       "4               Yes          check            83.9         267.40    Yes   \n",
       "\n",
       "  monthly_charges_bins  \n",
       "0       (58.83, 70.35]  \n",
       "1       (58.83, 70.35]  \n",
       "2        (70.35, 79.1]  \n",
       "3       (94.25, 102.6]  \n",
       "4         (79.1, 85.5]  \n",
       "\n",
       "[5 rows x 21 columns]"
      ]
     },
     "execution_count": 31,
     "metadata": {},
     "output_type": "execute_result"
    }
   ],
   "source": [
    "df.head()"
   ]
  },
  {
   "cell_type": "markdown",
   "metadata": {},
   "source": [
    "### Why did 27% of Telco customers churn?"
   ]
  },
  {
   "cell_type": "code",
   "execution_count": 24,
   "metadata": {
    "tags": []
   },
   "outputs": [
    {
     "data": {
      "image/png": "[encoded data removed]",
      "text/plain": [
       "<Figure size 432x288 with 1 Axes>"
      ]
     },
     "metadata": {},
     "output_type": "display_data"
    }
   ],
   "source": [
    "plt.pie(df.churn.value_counts(), labels=[\"Didn't churn 73%\",\"Churned: 27%\"], startangle=90);"
   ]
  },
  {
   "cell_type": "markdown",
   "metadata": {},
   "source": [
    "### $χ^2$ contingency table hypothesis testing"
   ]
  },
  {
   "cell_type": "markdown",
   "metadata": {},
   "source": [
    "$H_0$ : churn is independent of everything"
   ]
  },
  {
   "cell_type": "code",
   "execution_count": 28,
   "metadata": {
    "tags": []
   },
   "outputs": [
    {
     "data": {
      "text/plain": [
       "['gender', 'phone_service']"
      ]
     },
     "execution_count": 28,
     "metadata": {},
     "output_type": "execute_result"
    }
   ],
   "source": [
    "insignificant_variables = []\n",
    "for col in df.columns[:-4]:\n",
    "    observed = pd.crosstab(df.churn, df[col])\n",
    "    chi2, p, degf, expected = chi2_contingency(observed)\n",
    "    #Bonferroni correction = to no. of comparisons\n",
    "    bonf, alpha = observed.shape[0]*observed.shape[1], .05\n",
    "    if bonf*p > alpha: insignificant_variables.append(col)\n",
    "\n",
    "insignificant_variables"
   ]
  },
  {
   "cell_type": "code",
   "execution_count": 30,
   "metadata": {},
   "outputs": [
    {
     "data": {
      "text/plain": [
       "<AxesSubplot:>"
      ]
     },
     "execution_count": 30,
     "metadata": {},
     "output_type": "execute_result"
    },
    {
     "data": {
      "image/png": "[encoded data removed]",
      "text/plain": [
       "<Figure size 648x504 with 2 Axes>"
      ]
     },
     "metadata": {},
     "output_type": "display_data"
    }
   ],
   "source": [
    "plot_corr(df);"
   ]
  },
  {
   "cell_type": "code",
   "execution_count": null,
   "metadata": {},
   "outputs": [],
   "source": [
    "observed = pd.crosstab(df.churn, df[col])\n",
    "chi2, p, degf, expected = chi2_contingency(observed)\n",
    "bonf, alpha = observed.shape[0]*observed.shape[1], .05\n",
    "alpha = .05 \n",
    "print('Observed\\n')\n",
    "print(observed)\n",
    "print('---\\nExpected\\n')\n",
    "print(pd.DataFrame(np.round(expected), index=['No', 'Yes']))\n",
    "print('---\\n')\n",
    "print(f'Bonferroni correction = {bonf}')\n",
    "print(f'chi^2 = {chi2:.3f}')\n",
    "print(f'p     = {np.min([bonf*p, .9999]):.4f}\\n\\n')"
   ]
  },
  {
   "cell_type": "code",
   "execution_count": 8,
   "metadata": {},
   "outputs": [
    {
     "data": {
      "text/plain": [
       "['gender', 'phone_service']"
      ]
     },
     "execution_count": 8,
     "metadata": {},
     "output_type": "execute_result"
    }
   ],
   "source": [
    "insignificant_variables"
   ]
  },
  {
   "cell_type": "code",
   "execution_count": 20,
   "metadata": {
    "colab": {
     "base_uri": "https://localhost:8080/",
     "height": 404
    },
    "id": "WTgwUynYxv0O",
    "outputId": "4a7b8659-58fd-4166-bfdb-0a7bf4f24017"
   },
   "outputs": [
    {
     "data": {
      "image/png": "[encoded data removed]",
      "text/plain": [
       "<Figure size 288x432 with 1 Axes>"
      ]
     },
     "metadata": {},
     "output_type": "display_data"
    }
   ],
   "source": [
    "f=plt.subplots(figsize=(4,6))\n",
    "ax=sns.countplot(data=df, x='internet_service', hue='churn', order=['fiber optic','DSL','none'])\n",
    "ax.set_ylabel('')    \n",
    "ax.set_xlabel('')\n",
    "ax.set_title(\"Churn by Internet Service\");"
   ]
  },
  {
   "cell_type": "code",
   "execution_count": 21,
   "metadata": {
    "colab": {
     "base_uri": "https://localhost:8080/",
     "height": 404
    },
    "id": "UQslYdDUx5uK",
    "outputId": "01684cbd-090b-4d94-efaa-fe0ae3133f1b"
   },
   "outputs": [
    {
     "data": {
      "image/png": "[encoded data removed]",
      "text/plain": [
       "<Figure size 288x432 with 1 Axes>"
      ]
     },
     "metadata": {},
     "output_type": "display_data"
    }
   ],
   "source": [
    "f=plt.subplots(figsize=(4,6))\n",
    "ax=sns.countplot(data=df, x='contract', hue='churn', order=['month-to-month','1-year','2-year'])\n",
    "ax.set_ylabel('')    \n",
    "ax.set_xlabel('')\n",
    "ax.set_title(\"Churn by Contract Type\");"
   ]
  },
  {
   "cell_type": "code",
   "execution_count": 22,
   "metadata": {
    "colab": {
     "base_uri": "https://localhost:8080/",
     "height": 404
    },
    "id": "9esl1Cr81bWI",
    "outputId": "69e3815a-9ddd-44fc-a991-1ca8bf3ce28a"
   },
   "outputs": [
    {
     "data": {
      "image/png": "[encoded data removed]",
      "text/plain": [
       "<Figure size 360x432 with 1 Axes>"
      ]
     },
     "metadata": {},
     "output_type": "display_data"
    }
   ],
   "source": [
    "f=plt.subplots(figsize=(5,6))\n",
    "ax=sns.countplot(data=df, x='payment_method', hue='churn', order=['e-check','check','bank transfer', 'credit card'])\n",
    "ax.set_ylabel('')    \n",
    "ax.set_xlabel('')\n",
    "ax.set_title(\"Churn by Payment Method\");"
   ]
  },
  {
   "cell_type": "code",
   "execution_count": null,
   "metadata": {},
   "outputs": [],
   "source": []
  }
 ],
 "metadata": {
  "colab": {
   "name": "telco_eda.ipynb",
   "provenance": []
  },
  "kernelspec": {
   "display_name": "Python 3",
   "language": "python",
   "name": "python3"
  },
  "language_info": {
   "codemirror_mode": {
    "name": "ipython",
    "version": 3
   },
   "file_extension": ".py",
   "mimetype": "text/x-python",
   "name": "python",
   "nbconvert_exporter": "python",
   "pygments_lexer": "ipython3",
   "version": "3.8.5"
  }
 },
 "nbformat": 4,
 "nbformat_minor": 4
}
