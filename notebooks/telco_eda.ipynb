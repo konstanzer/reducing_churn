{
 "cells": [
  {
   "cell_type": "code",
   "execution_count": 1,
   "metadata": {
    "id": "xk4onAT-ncLb"
   },
   "outputs": [],
   "source": [
    "import warnings\n",
    "warnings.filterwarnings('ignore')\n",
    "\n",
    "from src.prepare import telco_eda_prep\n",
    "\n",
    "import pandas as pd\n",
    "import numpy as np\n",
    "import matplotlib.pyplot as plt\n",
    "import seaborn as sns"
   ]
  },
  {
   "cell_type": "code",
   "execution_count": 2,
   "metadata": {
    "id": "K9-9Sfovno_b"
   },
   "outputs": [
    {
     "name": "stdout",
     "output_type": "stream",
     "text": [
      "<class 'pandas.core.frame.DataFrame'>\n",
      "RangeIndex: 7043 entries, 0 to 7042\n",
      "Data columns (total 18 columns):\n",
      " #   Column             Non-Null Count  Dtype  \n",
      "---  ------             --------------  -----  \n",
      " 0   partner            7043 non-null   object \n",
      " 1   dependents         7043 non-null   object \n",
      " 2   tenure             7043 non-null   int64  \n",
      " 3   phone_service      7043 non-null   object \n",
      " 4   multiple_lines     7043 non-null   object \n",
      " 5   internet_service   7043 non-null   object \n",
      " 6   online_security    7043 non-null   object \n",
      " 7   online_backup      7043 non-null   object \n",
      " 8   device_protection  7043 non-null   object \n",
      " 9   tech_support       7043 non-null   object \n",
      " 10  streaming_tv       7043 non-null   object \n",
      " 11  streaming_movies   7043 non-null   object \n",
      " 12  contract           7043 non-null   object \n",
      " 13  paperless_billing  7043 non-null   object \n",
      " 14  payment_method     7043 non-null   object \n",
      " 15  monthly_charges    7043 non-null   float64\n",
      " 16  total_charges      7043 non-null   float64\n",
      " 17  churn              7043 non-null   object \n",
      "dtypes: float64(2), int64(1), object(15)\n",
      "memory usage: 990.5+ KB\n"
     ]
    }
   ],
   "source": [
    "df = telco_eda_prep()\n",
    "df.info()"
   ]
  },
  {
   "cell_type": "code",
   "execution_count": 3,
   "metadata": {
    "colab": {
     "base_uri": "https://localhost:8080/"
    },
    "id": "UUyEAEL50vOu",
    "outputId": "89f1866c-2c06-4a12-d22d-f2d284e552ad"
   },
   "outputs": [
    {
     "data": {
      "text/html": [
       "<div>\n",
       "<style scoped>\n",
       "    .dataframe tbody tr th:only-of-type {\n",
       "        vertical-align: middle;\n",
       "    }\n",
       "\n",
       "    .dataframe tbody tr th {\n",
       "        vertical-align: top;\n",
       "    }\n",
       "\n",
       "    .dataframe thead th {\n",
       "        text-align: right;\n",
       "    }\n",
       "</style>\n",
       "<table border=\"1\" class=\"dataframe\">\n",
       "  <thead>\n",
       "    <tr style=\"text-align: right;\">\n",
       "      <th></th>\n",
       "      <th>partner</th>\n",
       "      <th>dependents</th>\n",
       "      <th>tenure</th>\n",
       "      <th>phone_service</th>\n",
       "      <th>multiple_lines</th>\n",
       "      <th>internet_service</th>\n",
       "      <th>online_security</th>\n",
       "      <th>online_backup</th>\n",
       "      <th>device_protection</th>\n",
       "      <th>tech_support</th>\n",
       "      <th>streaming_tv</th>\n",
       "      <th>streaming_movies</th>\n",
       "      <th>contract</th>\n",
       "      <th>paperless_billing</th>\n",
       "      <th>payment_method</th>\n",
       "      <th>monthly_charges</th>\n",
       "      <th>total_charges</th>\n",
       "      <th>churn</th>\n",
       "    </tr>\n",
       "  </thead>\n",
       "  <tbody>\n",
       "    <tr>\n",
       "      <th>0</th>\n",
       "      <td>Yes</td>\n",
       "      <td>Yes</td>\n",
       "      <td>9</td>\n",
       "      <td>Yes</td>\n",
       "      <td>No</td>\n",
       "      <td>DSL</td>\n",
       "      <td>No</td>\n",
       "      <td>Yes</td>\n",
       "      <td>No</td>\n",
       "      <td>Yes</td>\n",
       "      <td>Yes</td>\n",
       "      <td>No</td>\n",
       "      <td>1-year</td>\n",
       "      <td>Yes</td>\n",
       "      <td>check</td>\n",
       "      <td>65.6</td>\n",
       "      <td>593.30</td>\n",
       "      <td>No</td>\n",
       "    </tr>\n",
       "    <tr>\n",
       "      <th>1</th>\n",
       "      <td>No</td>\n",
       "      <td>No</td>\n",
       "      <td>9</td>\n",
       "      <td>Yes</td>\n",
       "      <td>Yes</td>\n",
       "      <td>DSL</td>\n",
       "      <td>No</td>\n",
       "      <td>No</td>\n",
       "      <td>No</td>\n",
       "      <td>No</td>\n",
       "      <td>No</td>\n",
       "      <td>Yes</td>\n",
       "      <td>month-to-month</td>\n",
       "      <td>No</td>\n",
       "      <td>check</td>\n",
       "      <td>59.9</td>\n",
       "      <td>542.40</td>\n",
       "      <td>No</td>\n",
       "    </tr>\n",
       "    <tr>\n",
       "      <th>2</th>\n",
       "      <td>No</td>\n",
       "      <td>No</td>\n",
       "      <td>4</td>\n",
       "      <td>Yes</td>\n",
       "      <td>No</td>\n",
       "      <td>fiber optic</td>\n",
       "      <td>No</td>\n",
       "      <td>No</td>\n",
       "      <td>Yes</td>\n",
       "      <td>No</td>\n",
       "      <td>No</td>\n",
       "      <td>No</td>\n",
       "      <td>month-to-month</td>\n",
       "      <td>Yes</td>\n",
       "      <td>e-check</td>\n",
       "      <td>73.9</td>\n",
       "      <td>280.85</td>\n",
       "      <td>Yes</td>\n",
       "    </tr>\n",
       "    <tr>\n",
       "      <th>3</th>\n",
       "      <td>Yes</td>\n",
       "      <td>No</td>\n",
       "      <td>13</td>\n",
       "      <td>Yes</td>\n",
       "      <td>No</td>\n",
       "      <td>fiber optic</td>\n",
       "      <td>No</td>\n",
       "      <td>Yes</td>\n",
       "      <td>Yes</td>\n",
       "      <td>No</td>\n",
       "      <td>Yes</td>\n",
       "      <td>Yes</td>\n",
       "      <td>month-to-month</td>\n",
       "      <td>Yes</td>\n",
       "      <td>e-check</td>\n",
       "      <td>98.0</td>\n",
       "      <td>1237.85</td>\n",
       "      <td>Yes</td>\n",
       "    </tr>\n",
       "    <tr>\n",
       "      <th>4</th>\n",
       "      <td>Yes</td>\n",
       "      <td>No</td>\n",
       "      <td>3</td>\n",
       "      <td>Yes</td>\n",
       "      <td>No</td>\n",
       "      <td>fiber optic</td>\n",
       "      <td>No</td>\n",
       "      <td>No</td>\n",
       "      <td>No</td>\n",
       "      <td>Yes</td>\n",
       "      <td>Yes</td>\n",
       "      <td>No</td>\n",
       "      <td>month-to-month</td>\n",
       "      <td>Yes</td>\n",
       "      <td>check</td>\n",
       "      <td>83.9</td>\n",
       "      <td>267.40</td>\n",
       "      <td>Yes</td>\n",
       "    </tr>\n",
       "  </tbody>\n",
       "</table>\n",
       "</div>"
      ],
      "text/plain": [
       "  partner dependents  tenure phone_service multiple_lines internet_service  \\\n",
       "0     Yes        Yes       9           Yes             No              DSL   \n",
       "1      No         No       9           Yes            Yes              DSL   \n",
       "2      No         No       4           Yes             No      fiber optic   \n",
       "3     Yes         No      13           Yes             No      fiber optic   \n",
       "4     Yes         No       3           Yes             No      fiber optic   \n",
       "\n",
       "  online_security online_backup device_protection tech_support streaming_tv  \\\n",
       "0              No           Yes                No          Yes          Yes   \n",
       "1              No            No                No           No           No   \n",
       "2              No            No               Yes           No           No   \n",
       "3              No           Yes               Yes           No          Yes   \n",
       "4              No            No                No          Yes          Yes   \n",
       "\n",
       "  streaming_movies        contract paperless_billing payment_method  \\\n",
       "0               No          1-year               Yes          check   \n",
       "1              Yes  month-to-month                No          check   \n",
       "2               No  month-to-month               Yes        e-check   \n",
       "3              Yes  month-to-month               Yes        e-check   \n",
       "4               No  month-to-month               Yes          check   \n",
       "\n",
       "   monthly_charges  total_charges churn  \n",
       "0             65.6         593.30    No  \n",
       "1             59.9         542.40    No  \n",
       "2             73.9         280.85   Yes  \n",
       "3             98.0        1237.85   Yes  \n",
       "4             83.9         267.40   Yes  "
      ]
     },
     "execution_count": 3,
     "metadata": {},
     "output_type": "execute_result"
    }
   ],
   "source": [
    "df.head()"
   ]
  },
  {
   "cell_type": "code",
   "execution_count": null,
   "metadata": {
    "colab": {
     "base_uri": "https://localhost:8080/",
     "height": 404
    },
    "id": "WTgwUynYxv0O",
    "outputId": "4a7b8659-58fd-4166-bfdb-0a7bf4f24017"
   },
   "outputs": [],
   "source": [
    "f=plt.subplots(figsize=(9,6))\n",
    "ax=sns.histplot(data=df, x='InternetService', hue='Churn', palette='hot_r', stat='count', )\n",
    "ax.set_xlabel(\"Plan\")\n",
    "ax.set_title(\"Churn by Internet Service\");"
   ]
  },
  {
   "cell_type": "code",
   "execution_count": null,
   "metadata": {
    "colab": {
     "base_uri": "https://localhost:8080/"
    },
    "id": "-rnRBabS3ZjY",
    "outputId": "8517b500-7731-49e4-dcdf-45e94e506681"
   },
   "outputs": [],
   "source": [
    "df.Contract.value_counts()"
   ]
  },
  {
   "cell_type": "code",
   "execution_count": null,
   "metadata": {
    "colab": {
     "base_uri": "https://localhost:8080/",
     "height": 404
    },
    "id": "UQslYdDUx5uK",
    "outputId": "01684cbd-090b-4d94-efaa-fe0ae3133f1b"
   },
   "outputs": [],
   "source": [
    "f=plt.subplots(figsize=(9,6))\n",
    "ax=sns.histplot(data=df, x='Contract', hue='Churn', palette='hot_r')\n",
    "ax.set_xlabel(\"Plan\")\n",
    "ax.set_title(\"Churn by Contract Type\");"
   ]
  },
  {
   "cell_type": "code",
   "execution_count": null,
   "metadata": {
    "colab": {
     "base_uri": "https://localhost:8080/",
     "height": 404
    },
    "id": "9esl1Cr81bWI",
    "outputId": "69e3815a-9ddd-44fc-a991-1ca8bf3ce28a"
   },
   "outputs": [],
   "source": [
    "f=plt.subplots(figsize=(9,6))\n",
    "ax=sns.histplot(data=df, x='PaymentMethod', hue='Churn', palette='hot_r')\n",
    "ax.set_xlabel(\"Method\")\n",
    "ax.set_title(\"Churn by Payment Method\");"
   ]
  },
  {
   "cell_type": "code",
   "execution_count": null,
   "metadata": {
    "colab": {
     "base_uri": "https://localhost:8080/",
     "height": 458
    },
    "id": "bZiVxZvLz7Nu",
    "outputId": "ec2837e7-8fc1-4ad4-9c68-bb8bcc27cc05"
   },
   "outputs": [],
   "source": [
    "f=plt.subplots(figsize=(15,7))\n",
    "ax=sns.scatterplot(data=df, y='MonthlyCharges', x='tenure', hue='Churn', palette='cubehelix_r')\n",
    "ax.set_xlabel(\"Months with company\")\n",
    "ax.set_title(\"Monthly Charges Over Time\");"
   ]
  },
  {
   "cell_type": "code",
   "execution_count": null,
   "metadata": {
    "id": "XfpyMFWc0LbS"
   },
   "outputs": [],
   "source": []
  }
 ],
 "metadata": {
  "colab": {
   "name": "telco_eda.ipynb",
   "provenance": []
  },
  "kernelspec": {
   "display_name": "Python 3",
   "language": "python",
   "name": "python3"
  },
  "language_info": {
   "codemirror_mode": {
    "name": "ipython",
    "version": 3
   },
   "file_extension": ".py",
   "mimetype": "text/x-python",
   "name": "python",
   "nbconvert_exporter": "python",
   "pygments_lexer": "ipython3",
   "version": "3.8.5"
  }
 },
 "nbformat": 4,
 "nbformat_minor": 4
}
