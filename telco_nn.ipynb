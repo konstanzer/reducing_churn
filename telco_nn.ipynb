{
  "nbformat": 4,
  "nbformat_minor": 0,
  "metadata": {
    "colab": {
      "name": "telco_nn.ipynb",
      "provenance": []
    },
    "kernelspec": {
      "name": "python3",
      "display_name": "Python 3"
    },
    "language_info": {
      "name": "python"
    }
  },
  "cells": [
    {
      "cell_type": "code",
      "metadata": {
        "id": "xk4onAT-ncLb"
      },
      "source": [
        "import pandas as pd\n",
        "import numpy as np\n",
        "\n",
        "from sklearn.preprocessing import StandardScaler\n",
        "from sklearn.model_selection import train_test_split\n",
        "\n",
        "from imblearn.over_sampling import SMOTE\n",
        "from tensorflow.keras.layers.experimental.preprocessing import Normalization\n",
        "from tensorflow.keras.models import Sequential\n",
        "from tensorflow.keras.layers import Dense, Dropout, BatchNormalization\n",
        "from tensorflow.keras.callbacks import EarlyStopping\n",
        "from tensorflow.keras.regularizers import l2\n",
        "\n",
        "from sklearn.metrics import classification_report\n",
        "from sklearn.metrics import confusion_matrix"
      ],
      "execution_count": null,
      "outputs": []
    },
    {
      "cell_type": "code",
      "metadata": {
        "id": "K9-9Sfovno_b"
      },
      "source": [
        "path = \"/content/drive/MyDrive/TELCO/telco_numeric.csv\"\n",
        "telco = pd.read_csv(path, index_col=0)"
      ],
      "execution_count": null,
      "outputs": []
    },
    {
      "cell_type": "code",
      "metadata": {
        "colab": {
          "base_uri": "https://localhost:8080/",
          "height": 226
        },
        "id": "UUyEAEL50vOu",
        "outputId": "8da90894-61f6-4c91-8f47-01d2dade3b24"
      },
      "source": [
        "telco.head()"
      ],
      "execution_count": null,
      "outputs": [
        {
          "output_type": "execute_result",
          "data": {
            "text/html": [
              "<div>\n",
              "<style scoped>\n",
              "    .dataframe tbody tr th:only-of-type {\n",
              "        vertical-align: middle;\n",
              "    }\n",
              "\n",
              "    .dataframe tbody tr th {\n",
              "        vertical-align: top;\n",
              "    }\n",
              "\n",
              "    .dataframe thead th {\n",
              "        text-align: right;\n",
              "    }\n",
              "</style>\n",
              "<table border=\"1\" class=\"dataframe\">\n",
              "  <thead>\n",
              "    <tr style=\"text-align: right;\">\n",
              "      <th></th>\n",
              "      <th>SeniorCitizen</th>\n",
              "      <th>tenure</th>\n",
              "      <th>MonthlyCharges</th>\n",
              "      <th>TotalCharges</th>\n",
              "      <th>gender_Male</th>\n",
              "      <th>Partner_Yes</th>\n",
              "      <th>Dependents_Yes</th>\n",
              "      <th>PhoneService_Yes</th>\n",
              "      <th>MultipleLines_Yes</th>\n",
              "      <th>InternetService_Fiber_optic</th>\n",
              "      <th>InternetService_No</th>\n",
              "      <th>OnlineSecurity_Yes</th>\n",
              "      <th>OnlineBackup_Yes</th>\n",
              "      <th>DeviceProtection_Yes</th>\n",
              "      <th>TechSupport_Yes</th>\n",
              "      <th>StreamingTV_Yes</th>\n",
              "      <th>StreamingMovies_Yes</th>\n",
              "      <th>Contract_One_year</th>\n",
              "      <th>Contract_Two_year</th>\n",
              "      <th>PaperlessBilling_Yes</th>\n",
              "      <th>PaymentMethod_Credit_card_(automatic)</th>\n",
              "      <th>PaymentMethod_Electronic_check</th>\n",
              "      <th>PaymentMethod_Mailed_check</th>\n",
              "      <th>Churn_Yes</th>\n",
              "    </tr>\n",
              "  </thead>\n",
              "  <tbody>\n",
              "    <tr>\n",
              "      <th>0</th>\n",
              "      <td>0</td>\n",
              "      <td>1</td>\n",
              "      <td>29.85</td>\n",
              "      <td>29.85</td>\n",
              "      <td>0</td>\n",
              "      <td>1</td>\n",
              "      <td>0</td>\n",
              "      <td>0</td>\n",
              "      <td>0</td>\n",
              "      <td>0</td>\n",
              "      <td>0</td>\n",
              "      <td>0</td>\n",
              "      <td>1</td>\n",
              "      <td>0</td>\n",
              "      <td>0</td>\n",
              "      <td>0</td>\n",
              "      <td>0</td>\n",
              "      <td>0</td>\n",
              "      <td>0</td>\n",
              "      <td>1</td>\n",
              "      <td>0</td>\n",
              "      <td>1</td>\n",
              "      <td>0</td>\n",
              "      <td>0</td>\n",
              "    </tr>\n",
              "    <tr>\n",
              "      <th>1</th>\n",
              "      <td>0</td>\n",
              "      <td>34</td>\n",
              "      <td>56.95</td>\n",
              "      <td>1889.50</td>\n",
              "      <td>1</td>\n",
              "      <td>0</td>\n",
              "      <td>0</td>\n",
              "      <td>1</td>\n",
              "      <td>0</td>\n",
              "      <td>0</td>\n",
              "      <td>0</td>\n",
              "      <td>1</td>\n",
              "      <td>0</td>\n",
              "      <td>1</td>\n",
              "      <td>0</td>\n",
              "      <td>0</td>\n",
              "      <td>0</td>\n",
              "      <td>1</td>\n",
              "      <td>0</td>\n",
              "      <td>0</td>\n",
              "      <td>0</td>\n",
              "      <td>0</td>\n",
              "      <td>1</td>\n",
              "      <td>0</td>\n",
              "    </tr>\n",
              "    <tr>\n",
              "      <th>2</th>\n",
              "      <td>0</td>\n",
              "      <td>2</td>\n",
              "      <td>53.85</td>\n",
              "      <td>108.15</td>\n",
              "      <td>1</td>\n",
              "      <td>0</td>\n",
              "      <td>0</td>\n",
              "      <td>1</td>\n",
              "      <td>0</td>\n",
              "      <td>0</td>\n",
              "      <td>0</td>\n",
              "      <td>1</td>\n",
              "      <td>1</td>\n",
              "      <td>0</td>\n",
              "      <td>0</td>\n",
              "      <td>0</td>\n",
              "      <td>0</td>\n",
              "      <td>0</td>\n",
              "      <td>0</td>\n",
              "      <td>1</td>\n",
              "      <td>0</td>\n",
              "      <td>0</td>\n",
              "      <td>1</td>\n",
              "      <td>1</td>\n",
              "    </tr>\n",
              "    <tr>\n",
              "      <th>3</th>\n",
              "      <td>0</td>\n",
              "      <td>45</td>\n",
              "      <td>42.30</td>\n",
              "      <td>1840.75</td>\n",
              "      <td>1</td>\n",
              "      <td>0</td>\n",
              "      <td>0</td>\n",
              "      <td>0</td>\n",
              "      <td>0</td>\n",
              "      <td>0</td>\n",
              "      <td>0</td>\n",
              "      <td>1</td>\n",
              "      <td>0</td>\n",
              "      <td>1</td>\n",
              "      <td>1</td>\n",
              "      <td>0</td>\n",
              "      <td>0</td>\n",
              "      <td>1</td>\n",
              "      <td>0</td>\n",
              "      <td>0</td>\n",
              "      <td>0</td>\n",
              "      <td>0</td>\n",
              "      <td>0</td>\n",
              "      <td>0</td>\n",
              "    </tr>\n",
              "    <tr>\n",
              "      <th>4</th>\n",
              "      <td>0</td>\n",
              "      <td>2</td>\n",
              "      <td>70.70</td>\n",
              "      <td>151.65</td>\n",
              "      <td>0</td>\n",
              "      <td>0</td>\n",
              "      <td>0</td>\n",
              "      <td>1</td>\n",
              "      <td>0</td>\n",
              "      <td>1</td>\n",
              "      <td>0</td>\n",
              "      <td>0</td>\n",
              "      <td>0</td>\n",
              "      <td>0</td>\n",
              "      <td>0</td>\n",
              "      <td>0</td>\n",
              "      <td>0</td>\n",
              "      <td>0</td>\n",
              "      <td>0</td>\n",
              "      <td>1</td>\n",
              "      <td>0</td>\n",
              "      <td>1</td>\n",
              "      <td>0</td>\n",
              "      <td>1</td>\n",
              "    </tr>\n",
              "  </tbody>\n",
              "</table>\n",
              "</div>"
            ],
            "text/plain": [
              "   SeniorCitizen  tenure  ...  PaymentMethod_Mailed_check  Churn_Yes\n",
              "0              0       1  ...                           0          0\n",
              "1              0      34  ...                           1          0\n",
              "2              0       2  ...                           1          1\n",
              "3              0      45  ...                           0          0\n",
              "4              0       2  ...                           0          1\n",
              "\n",
              "[5 rows x 24 columns]"
            ]
          },
          "metadata": {
            "tags": []
          },
          "execution_count": 133
        }
      ]
    },
    {
      "cell_type": "code",
      "metadata": {
        "colab": {
          "base_uri": "https://localhost:8080/"
        },
        "id": "Y6NMJesl-mqG",
        "outputId": "41946d5d-c2b0-4f0e-b303-7d4c5dfd5578"
      },
      "source": [
        "1 - sum(y_test)/len(y_test) #baseline accuracy"
      ],
      "execution_count": null,
      "outputs": [
        {
          "output_type": "execute_result",
          "data": {
            "text/plain": [
              "0.7345635202271115"
            ]
          },
          "metadata": {
            "tags": []
          },
          "execution_count": 134
        }
      ]
    },
    {
      "cell_type": "code",
      "metadata": {
        "id": "-80l5E7i0mbP"
      },
      "source": [
        "#multicollinear variables determined with inflation factors\n",
        "telco = telco.drop(['MonthlyCharges', 'PhoneService_Yes',\n",
        "                    'TotalCharges', 'InternetService_No'], axis=1)"
      ],
      "execution_count": null,
      "outputs": []
    },
    {
      "cell_type": "code",
      "metadata": {
        "id": "DWGQMdOkn1D_"
      },
      "source": [
        "features = telco.copy()\n",
        "labels = features.pop('Churn_Yes')\n",
        "#features = StandardScaler().fit_transform(features) #this can be done with the model itself\n",
        "features = np.array(features)"
      ],
      "execution_count": null,
      "outputs": []
    },
    {
      "cell_type": "code",
      "metadata": {
        "id": "UmYjzdpP31DG"
      },
      "source": [
        "X_train, X_test, y_train, y_test = train_test_split(features, labels, test_size=.05, stratify=labels, random_state=42)"
      ],
      "execution_count": null,
      "outputs": []
    },
    {
      "cell_type": "code",
      "metadata": {
        "id": "CI7B_AQuIUZL"
      },
      "source": [
        "smote = SMOTE(random_state=36) #this made model rather worse\n",
        "#X_train, y_train = smote.fit_resample(X_train, y_train)"
      ],
      "execution_count": null,
      "outputs": []
    },
    {
      "cell_type": "code",
      "metadata": {
        "colab": {
          "base_uri": "https://localhost:8080/"
        },
        "id": "zfNMBytk4SWY",
        "outputId": "2492e2c6-d9d7-4252-a1d4-99750933bfbe"
      },
      "source": [
        "X_train.shape, X_test.shape, y_train.shape, y_test.shape"
      ],
      "execution_count": null,
      "outputs": [
        {
          "output_type": "execute_result",
          "data": {
            "text/plain": [
              "((6690, 19), (353, 19), (6690,), (353,))"
            ]
          },
          "metadata": {
            "tags": []
          },
          "execution_count": 162
        }
      ]
    },
    {
      "cell_type": "code",
      "metadata": {
        "id": "xN9uQkU8zTHB"
      },
      "source": [
        "n_features = X_train.shape[1]\n",
        "n_classes = 2\n",
        "# define the keras model\n",
        "#https://machinelearningmastery.com/neural-network-models-for-combined-classification-and-regression/\n",
        "model = Sequential()\n",
        "model.add(Normalization())\n",
        "model.add(Dense(20, input_dim=n_features, activation='relu', kernel_initializer='he_normal'))\n",
        "model.add(Dense(10, activation='relu', kernel_initializer='he_normal'))\n",
        "model.add(Dense(n_classes, activation='softmax')) #this has to have 1 unit for binary classifier"
      ],
      "execution_count": null,
      "outputs": []
    },
    {
      "cell_type": "code",
      "metadata": {
        "id": "yM_jICA52K6z"
      },
      "source": [
        "# compile the keras model\n",
        "model.compile(loss='sparse_categorical_crossentropy', optimizer='adam', metrics=['accuracy'])"
      ],
      "execution_count": null,
      "outputs": []
    },
    {
      "cell_type": "code",
      "metadata": {
        "colab": {
          "base_uri": "https://localhost:8080/"
        },
        "id": "eEu2WmJkzVQc",
        "outputId": "0413243d-4432-4bff-e0a6-13cad43b66af"
      },
      "source": [
        "# fit the keras model on the dataset\n",
        "model.fit(X_train, y_train, epochs=30, batch_size=256, verbose=2)"
      ],
      "execution_count": null,
      "outputs": [
        {
          "output_type": "stream",
          "text": [
            "Epoch 1/30\n",
            "27/27 - 0s - loss: 0.5179 - accuracy: 0.7357\n",
            "Epoch 2/30\n",
            "27/27 - 0s - loss: 0.4995 - accuracy: 0.7471\n",
            "Epoch 3/30\n",
            "27/27 - 0s - loss: 0.4779 - accuracy: 0.7655\n",
            "Epoch 4/30\n",
            "27/27 - 0s - loss: 0.4605 - accuracy: 0.7779\n",
            "Epoch 5/30\n",
            "27/27 - 0s - loss: 0.4486 - accuracy: 0.7882\n",
            "Epoch 6/30\n",
            "27/27 - 0s - loss: 0.4396 - accuracy: 0.7889\n",
            "Epoch 7/30\n",
            "27/27 - 0s - loss: 0.4326 - accuracy: 0.7925\n",
            "Epoch 8/30\n",
            "27/27 - 0s - loss: 0.4294 - accuracy: 0.7952\n",
            "Epoch 9/30\n",
            "27/27 - 0s - loss: 0.4273 - accuracy: 0.7963\n",
            "Epoch 10/30\n",
            "27/27 - 0s - loss: 0.4271 - accuracy: 0.7976\n",
            "Epoch 11/30\n",
            "27/27 - 0s - loss: 0.4219 - accuracy: 0.7984\n",
            "Epoch 12/30\n",
            "27/27 - 0s - loss: 0.4210 - accuracy: 0.8025\n",
            "Epoch 13/30\n",
            "27/27 - 0s - loss: 0.4217 - accuracy: 0.8021\n",
            "Epoch 14/30\n",
            "27/27 - 0s - loss: 0.4194 - accuracy: 0.8007\n",
            "Epoch 15/30\n",
            "27/27 - 0s - loss: 0.4172 - accuracy: 0.8012\n",
            "Epoch 16/30\n",
            "27/27 - 0s - loss: 0.4176 - accuracy: 0.8001\n",
            "Epoch 17/30\n",
            "27/27 - 0s - loss: 0.4155 - accuracy: 0.8027\n",
            "Epoch 18/30\n",
            "27/27 - 0s - loss: 0.4150 - accuracy: 0.8036\n",
            "Epoch 19/30\n",
            "27/27 - 0s - loss: 0.4146 - accuracy: 0.8060\n",
            "Epoch 20/30\n",
            "27/27 - 0s - loss: 0.4138 - accuracy: 0.8057\n",
            "Epoch 21/30\n",
            "27/27 - 0s - loss: 0.4127 - accuracy: 0.8051\n",
            "Epoch 22/30\n",
            "27/27 - 0s - loss: 0.4125 - accuracy: 0.8040\n",
            "Epoch 23/30\n",
            "27/27 - 0s - loss: 0.4124 - accuracy: 0.8052\n",
            "Epoch 24/30\n",
            "27/27 - 0s - loss: 0.4158 - accuracy: 0.8042\n",
            "Epoch 25/30\n",
            "27/27 - 0s - loss: 0.4113 - accuracy: 0.8063\n",
            "Epoch 26/30\n",
            "27/27 - 0s - loss: 0.4104 - accuracy: 0.8048\n",
            "Epoch 27/30\n",
            "27/27 - 0s - loss: 0.4102 - accuracy: 0.8049\n",
            "Epoch 28/30\n",
            "27/27 - 0s - loss: 0.4102 - accuracy: 0.8054\n",
            "Epoch 29/30\n",
            "27/27 - 0s - loss: 0.4107 - accuracy: 0.8049\n",
            "Epoch 30/30\n",
            "27/27 - 0s - loss: 0.4089 - accuracy: 0.8069\n"
          ],
          "name": "stdout"
        },
        {
          "output_type": "execute_result",
          "data": {
            "text/plain": [
              "<tensorflow.python.keras.callbacks.History at 0x7fa9fd89be90>"
            ]
          },
          "metadata": {
            "tags": []
          },
          "execution_count": 173
        }
      ]
    },
    {
      "cell_type": "code",
      "metadata": {
        "colab": {
          "base_uri": "https://localhost:8080/"
        },
        "id": "nmy1d7w62HAm",
        "outputId": "de989864-cd41-408d-9796-ec338f4c4c54"
      },
      "source": [
        "# evaluate on test set\n",
        "yhat = model.predict(X_test)\n",
        "yhat = np.argmax(yhat, axis=-1).astype('int')\n",
        "acc = accuracy_score(y_test, yhat)\n",
        "print('Accuracy: %.3f' % acc)"
      ],
      "execution_count": null,
      "outputs": [
        {
          "output_type": "stream",
          "text": [
            "Accuracy: 0.802\n"
          ],
          "name": "stdout"
        }
      ]
    },
    {
      "cell_type": "code",
      "metadata": {
        "colab": {
          "base_uri": "https://localhost:8080/"
        },
        "id": "hItKWPkZ5azB",
        "outputId": "cd1ddb3f-5831-46f5-f27c-db58cc28012d"
      },
      "source": [
        "print(classification_report(y_test, yhat))"
      ],
      "execution_count": null,
      "outputs": [
        {
          "output_type": "stream",
          "text": [
            "              precision    recall  f1-score   support\n",
            "\n",
            "           0       0.83      0.92      0.87       259\n",
            "           1       0.68      0.49      0.57        94\n",
            "\n",
            "    accuracy                           0.80       353\n",
            "   macro avg       0.75      0.70      0.72       353\n",
            "weighted avg       0.79      0.80      0.79       353\n",
            "\n"
          ],
          "name": "stdout"
        }
      ]
    },
    {
      "cell_type": "code",
      "metadata": {
        "id": "mEJwtoiIBD3L",
        "colab": {
          "base_uri": "https://localhost:8080/"
        },
        "outputId": "449f8de0-5001-416c-a4cc-22425f35ae3f"
      },
      "source": [
        "print(confusion_matrix(y_test, yhat))"
      ],
      "execution_count": null,
      "outputs": [
        {
          "output_type": "stream",
          "text": [
            "[[231  28]\n",
            " [ 41  53]]\n"
          ],
          "name": "stdout"
        }
      ]
    },
    {
      "cell_type": "code",
      "metadata": {
        "colab": {
          "base_uri": "https://localhost:8080/"
        },
        "id": "GJ_OjAzdNwex",
        "outputId": "370e20eb-1f53-4588-ccc6-321349d86140"
      },
      "source": [
        "model.predict(X_test)"
      ],
      "execution_count": null,
      "outputs": [
        {
          "output_type": "execute_result",
          "data": {
            "text/plain": [
              "array([[0.16234323, 0.83765674],\n",
              "       [0.96767306, 0.03232691],\n",
              "       [0.9607039 , 0.03929607],\n",
              "       ...,\n",
              "       [0.9291644 , 0.07083553],\n",
              "       [0.93653965, 0.06346037],\n",
              "       [0.9338224 , 0.06617755]], dtype=float32)"
            ]
          },
          "metadata": {
            "tags": []
          },
          "execution_count": 157
        }
      ]
    },
    {
      "cell_type": "code",
      "metadata": {
        "colab": {
          "base_uri": "https://localhost:8080/"
        },
        "id": "ASy99ap4OAke",
        "outputId": "aa581610-2d68-4e41-ef76-78ded1953945"
      },
      "source": [
        "#from Anderson and Guvenc model\n",
        "ann = Sequential()\n",
        "ann.add(Dense(units = 200,activation=\"relu\", kernel_regularizer=l2(0.001)))\n",
        "ann.add(Dropout(0.2))\n",
        "ann.add(Dense(units = 100, activation=\"relu\",kernel_regularizer=l2(0.001)))\n",
        "ann.add(Dropout(0.2))\n",
        "ann.add(Dense(units = 50, activation=\"relu\",kernel_regularizer=l2(0.001)))\n",
        "ann.add(Dense(1, activation=\"sigmoid\"))\n",
        "\n",
        "ann.compile(optimizer = \"adam\", loss=\"binary_crossentropy\",metrics=[\"accuracy\"])\n",
        "\n",
        "callback = EarlyStopping(monitor=\"val_loss\", patience=2)\n",
        "history = ann.fit(x=X_train, y=y_train, validation_data=(X_test,y_test),\n",
        "                  batch_size=16, epochs=5, callbacks=[callback])"
      ],
      "execution_count": null,
      "outputs": [
        {
          "output_type": "stream",
          "text": [
            "Epoch 1/5\n",
            "419/419 [==============================] - 2s 3ms/step - loss: 0.6371 - accuracy: 0.7779 - val_loss: 0.5666 - val_accuracy: 0.7904\n",
            "Epoch 2/5\n",
            "419/419 [==============================] - 1s 2ms/step - loss: 0.5507 - accuracy: 0.7948 - val_loss: 0.5363 - val_accuracy: 0.7705\n",
            "Epoch 3/5\n",
            "419/419 [==============================] - 1s 2ms/step - loss: 0.5217 - accuracy: 0.7982 - val_loss: 0.5200 - val_accuracy: 0.7819\n",
            "Epoch 4/5\n",
            "419/419 [==============================] - 1s 2ms/step - loss: 0.5001 - accuracy: 0.7975 - val_loss: 0.4936 - val_accuracy: 0.8045\n",
            "Epoch 5/5\n",
            "419/419 [==============================] - 1s 2ms/step - loss: 0.4867 - accuracy: 0.7999 - val_loss: 0.4991 - val_accuracy: 0.7734\n"
          ],
          "name": "stdout"
        }
      ]
    },
    {
      "cell_type": "code",
      "metadata": {
        "colab": {
          "base_uri": "https://localhost:8080/",
          "height": 610
        },
        "id": "P7wk9L0zRVQg",
        "outputId": "f5f28273-831c-4e0b-ba97-dbc17de5730b"
      },
      "source": [
        "pd.DataFrame(ann.history.history).plot(figsize=(15,10))"
      ],
      "execution_count": null,
      "outputs": [
        {
          "output_type": "execute_result",
          "data": {
            "text/plain": [
              "<matplotlib.axes._subplots.AxesSubplot at 0x7faa08d80cd0>"
            ]
          },
          "metadata": {
            "tags": []
          },
          "execution_count": 127
        },
        {
          "output_type": "display_data",
          "data": {
            "image/png": "[encoded data removed]",
            "text/plain": [
              "<Figure size 1080x720 with 1 Axes>"
            ]
          },
          "metadata": {
            "tags": [],
            "needs_background": "light"
          }
        }
      ]
    },
    {
      "cell_type": "code",
      "metadata": {
        "colab": {
          "base_uri": "https://localhost:8080/"
        },
        "id": "T4sCiJZdReFf",
        "outputId": "71363880-73da-4b12-f2e4-b115c5490931"
      },
      "source": [
        "predictions = ann.predict_classes(X_test)\n",
        "print(confusion_matrix(y_test,predictions))\n",
        "print(classification_report(y_test, predictions))\n",
        "print(accuracy_score(y_test, predictions))"
      ],
      "execution_count": null,
      "outputs": [
        {
          "output_type": "stream",
          "text": [
            "[[240  19]\n",
            " [ 61  33]]\n",
            "              precision    recall  f1-score   support\n",
            "\n",
            "           0       0.80      0.93      0.86       259\n",
            "           1       0.63      0.35      0.45        94\n",
            "\n",
            "    accuracy                           0.77       353\n",
            "   macro avg       0.72      0.64      0.65       353\n",
            "weighted avg       0.75      0.77      0.75       353\n",
            "\n",
            "0.773371104815864\n"
          ],
          "name": "stdout"
        },
        {
          "output_type": "stream",
          "text": [
            "/usr/local/lib/python3.7/dist-packages/tensorflow/python/keras/engine/sequential.py:455: UserWarning: `model.predict_classes()` is deprecated and will be removed after 2021-01-01. Please use instead:* `np.argmax(model.predict(x), axis=-1)`,   if your model does multi-class classification   (e.g. if it uses a `softmax` last-layer activation).* `(model.predict(x) > 0.5).astype(\"int32\")`,   if your model does binary classification   (e.g. if it uses a `sigmoid` last-layer activation).\n",
            "  warnings.warn('`model.predict_classes()` is deprecated and '\n"
          ],
          "name": "stderr"
        }
      ]
    },
    {
      "cell_type": "code",
      "metadata": {
        "id": "gkXVQ7ofRlHW"
      },
      "source": [
        ""
      ],
      "execution_count": null,
      "outputs": []
    }
  ]
}